{
 "cells": [
  {
   "cell_type": "markdown",
   "metadata": {},
   "source": [
    "no homework this week :)"
   ]
  }
 ],
 "metadata": {
  "kernelspec": {
   "display_name": "Python 3.6.9 64-bit ('practical-intro-ml')",
   "language": "python",
   "name": "python3"
  },
  "language_info": {
   "name": "python",
   "version": "3.6.9"
  },
  "orig_nbformat": 4,
  "vscode": {
   "interpreter": {
    "hash": "4d40e50934daa0eb6f1350e39f6cce434801eaae2a64ccf60bad8508ffca5268"
   }
  }
 },
 "nbformat": 4,
 "nbformat_minor": 2
}
